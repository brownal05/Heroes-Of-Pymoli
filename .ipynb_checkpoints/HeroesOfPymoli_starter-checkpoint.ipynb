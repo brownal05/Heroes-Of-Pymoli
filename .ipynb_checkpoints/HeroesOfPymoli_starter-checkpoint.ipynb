{
 "cells": [
  {
   "cell_type": "markdown",
   "metadata": {},
   "source": [
    "### Heroes Of Pymoli Data Analysis\n",
    "* Of the 1163 active players, the vast majority are male (84%). There also exists, a smaller, but notable proportion of female players (14%).\n",
    "\n",
    "* Our peak age demographic falls between 20-24 (44.8%) with secondary groups falling between 15-19 (18.60%) and 25-29 (13.4%).  \n",
    "-----"
   ]
  },
  {
   "cell_type": "markdown",
   "metadata": {},
   "source": [
    "### Note\n",
    "* Instructions have been included for each segment. You do not have to follow them exactly, but they are included to help you think through the steps."
   ]
  },
  {
   "cell_type": "code",
   "execution_count": 1,
   "metadata": {},
   "outputs": [],
   "source": [
    "# Dependencies and Setup\n",
    "import pandas as pd\n",
    "import numpy as np\n",
    "\n",
    "# File to Load (Remember to Change These)\n",
    "purchaseFile = \"Resources/purchase_data.csv\"\n",
    "\n",
    "# Read Purchasing File and store into Pandas data frame\n",
    "purchaseData = pd.read_csv(purchaseFile)"
   ]
  },
  {
   "cell_type": "markdown",
   "metadata": {},
   "source": [
    "## Player Count"
   ]
  },
  {
   "cell_type": "markdown",
   "metadata": {},
   "source": [
    "* Display the total number of players\n"
   ]
  },
  {
   "cell_type": "code",
   "execution_count": 2,
   "metadata": {},
   "outputs": [
    {
     "name": "stdout",
     "output_type": "stream",
     "text": [
      "Index(['Purchase ID', 'SN', 'Age', 'Gender', 'Item ID', 'Item Name', 'Price'], dtype='object')\n"
     ]
    }
   ],
   "source": [
    "print(purchaseData.columns)\n",
    "\n",
    "\n"
   ]
  },
  {
   "cell_type": "markdown",
   "metadata": {},
   "source": [
    "## Purchasing Analysis (Total)"
   ]
  },
  {
   "cell_type": "markdown",
   "metadata": {},
   "source": [
    "* Run basic calculations to obtain number of unique items, average price, etc.\n",
    "\n",
    "\n",
    "* Create a summary data frame to hold the results\n",
    "\n",
    "\n",
    "* Optional: give the displayed data cleaner formatting\n",
    "\n",
    "\n",
    "* Display the summary data frame\n"
   ]
  },
  {
   "cell_type": "code",
   "execution_count": 3,
   "metadata": {
    "scrolled": true
   },
   "outputs": [
    {
     "name": "stdout",
     "output_type": "stream",
     "text": [
      "                            0\n",
      "Total Players             576\n",
      "Unique Items              183\n",
      "Avg Purchase Price      $3.05\n",
      "Number of Purchases       780\n",
      "Total Revenue        $2379.77\n"
     ]
    }
   ],
   "source": [
    "purchaseDf= pd.DataFrame(purchaseData)\n",
    "numPurchases = purchaseDf.groupby(\"Purchase ID\")\n",
    "purchaseCount = len(numPurchases)\n",
    "uniqueItems = purchaseDf.groupby(\"Item ID\")\n",
    "uniqueCount = len(uniqueItems[\"Item ID\"])\n",
    "uniquePlayer = purchaseDf.groupby(\"SN\")\n",
    "playerCount = len(uniquePlayer[\"SN\"])\n",
    "avgPrice = purchaseDf[\"Price\"].mean()\n",
    "#purchaseSummary['Unique ID'] = purchaseDf[\"Item ID\"].value_counts()\n",
    "revenue = purchaseDf.groupby(\"Item ID\")[\"Price\"].sum().sum()\n",
    "\n",
    "purchaseSummary = pd.DataFrame({\"Total Players\": [playerCount],\n",
    "                                \"Unique Items\" : [uniqueCount],\n",
    "                               \"Avg Purchase Price\" : [avgPrice],\n",
    "                               \"Number of Purchases\" : [purchaseCount],\n",
    "                               \"Total Revenue\" : [revenue]})\n",
    "purchaseSummary[\"Avg Purchase Price\"] = purchaseSummary[\"Avg Purchase Price\"].map(\"${:.2f}\".format)\n",
    "purchaseSummary[\"Total Revenue\"] = purchaseSummary[\"Total Revenue\"].map(\"${:.2f}\".format)\n",
    "\n",
    "print(purchaseSummary.T)                           \n",
    "\n",
    "\n",
    "\n"
   ]
  },
  {
   "cell_type": "code",
   "execution_count": null,
   "metadata": {},
   "outputs": [],
   "source": []
  },
  {
   "cell_type": "code",
   "execution_count": 4,
   "metadata": {},
   "outputs": [
    {
     "name": "stdout",
     "output_type": "stream",
     "text": [
      "                               0\n",
      "Men                   484.000000\n",
      "Men Pct of Players      0.840278\n",
      "Women of Players       81.000000\n",
      "Women Pct of Players    0.140625\n",
      "Others                 11.000000\n",
      "Other Pct of Players    0.019097\n"
     ]
    }
   ],
   "source": [
    "genderDf = purchaseDf.drop_duplicates(\"SN\", keep = \"first\") \n",
    "genderCount = genderDf[\"Gender\"].count()\n",
    "gendersGroup = genderDf.groupby(\"Gender\")\n",
    "male = gendersGroup[\"SN\"].count()[\"Male\"]\n",
    "female = gendersGroup[\"SN\"].count()[\"Female\"]\n",
    "\n",
    "others = gendersGroup[\"SN\"].count()[\"Other / Non-Disclosed\"]\n",
    "\n",
    "malepct = male / playerCount\n",
    "femalepct = female / playerCount\n",
    "otherspct = others / playerCount\n",
    "\n",
    "GenderSummary = pd.DataFrame({\"Men\": [male],\n",
    "                             \"Men Pct of Players\":[malepct],\n",
    "                             \"Women of Players\": [female],\n",
    "                              \"Women Pct of Players\": [femalepct],\n",
    "                             \"Others\": [others],\n",
    "                              \"Other Pct of Players\": [otherspct]})\n",
    "print(GenderSummary.T)\n"
   ]
  },
  {
   "cell_type": "markdown",
   "metadata": {},
   "source": [
    "## Gender Demographics"
   ]
  },
  {
   "cell_type": "markdown",
   "metadata": {},
   "source": [
    "* Percentage and Count of Male Players\n",
    "\n",
    "\n",
    "* Percentage and Count of Female Players\n",
    "\n",
    "\n",
    "* Percentage and Count of Other / Non-Disclosed\n",
    "\n",
    "\n"
   ]
  },
  {
   "cell_type": "code",
   "execution_count": 5,
   "metadata": {},
   "outputs": [
    {
     "name": "stdout",
     "output_type": "stream",
     "text": [
      "   Gender  Purchase Count  Average Purchase Price Total Purchase Value  \\\n",
      "0    Male             652                3.017853             $1967.64   \n",
      "1  Female             113                3.203009              $361.94   \n",
      "2  Others              15                3.346000               $50.19   \n",
      "\n",
      "  Avg Total Purchase Per Peson  \n",
      "0                        $4.07  \n",
      "1                        $4.47  \n",
      "2                        $4.56  \n"
     ]
    }
   ],
   "source": [
    "genders = purchaseDf.groupby([\"Gender\", \"Purchase ID\"])\n",
    "\n",
    "malePurchaseCount = len(genders[\"Purchase ID\"].count()[\"Male\"])\n",
    "femalePurchseCount = len(genders[\"Purchase ID\"].count()[\"Female\"])\n",
    "othersPurchaseCount = len(genders[\"SN\"].count()[\"Other / Non-Disclosed\"])\n",
    "maleAvgPurchase = purchaseDf.groupby(\"Gender\")[\"Price\"].mean()[\"Male\"].mean()\n",
    "femaleAvgPurchase = purchaseDf.groupby(\"Gender\")[\"Price\"].mean()[\"Female\"].mean()\n",
    "otherAvgPurchase = purchaseDf.groupby(\"Gender\")[\"Price\"].mean()[\"Other / Non-Disclosed\"].mean()\n",
    "maleTtlPurchase = purchaseDf.groupby(\"Gender\")[\"Price\"].sum()[\"Male\"].sum()\n",
    "femaleTtlPurchase = purchaseDf.groupby(\"Gender\")[\"Price\"].sum()[\"Female\"].sum()\n",
    "otherTtlPurchase = purchaseDf.groupby(\"Gender\")[\"Price\"].sum()[\"Other / Non-Disclosed\"].sum()\n",
    "maleAvgTtlPurchase = purchaseDf.groupby(\"Gender\")[\"Price\"].sum()[\"Male\"].sum() / male\n",
    "femaleAvgTtlPurchase = purchaseDf.groupby(\"Gender\")[\"Price\"].sum()[\"Female\"].sum() / female\n",
    "otherAvgTtlPurchase = purchaseDf.groupby(\"Gender\")[\"Price\"].sum()[\"Other / Non-Disclosed\"].sum() / others\n",
    "GenderPurchaseSummary = pd.DataFrame({\"Gender\": [\"Male\", \"Female\", \"Others\"],\n",
    "                                     \"Purchase Count\": [malePurchaseCount, femalePurchseCount, othersPurchaseCount],\n",
    "                                     \"Average Purchase Price\": [maleAvgPurchase, femaleAvgPurchase, otherAvgPurchase],\n",
    "                                     \"Total Purchase Value\": [maleTtlPurchase, femaleTtlPurchase, otherTtlPurchase ],\n",
    "                                     \"Avg Total Purchase Per Peson\": [maleAvgTtlPurchase, femaleAvgTtlPurchase, otherAvgTtlPurchase]})\n",
    "GenderPurchaseSummary[\"Total Purchase Value\"] = GenderPurchaseSummary[\"Total Purchase Value\"].map(\"${:.2f}\".format)\n",
    "GenderPurchaseSummary[\"Avg Total Purchase Per Peson\"] = GenderPurchaseSummary[\"Avg Total Purchase Per Peson\"].map(\"${:.2f}\".format)\n",
    "\n",
    "\n",
    "print(GenderPurchaseSummary)\n"
   ]
  },
  {
   "cell_type": "markdown",
   "metadata": {},
   "source": [
    "\n",
    "## Purchasing Analysis (Gender)"
   ]
  },
  {
   "cell_type": "markdown",
   "metadata": {},
   "source": [
    "* Run basic calculations to obtain purchase count, avg. purchase price, avg. purchase total per person etc. by gender\n",
    "\n",
    "\n",
    "\n",
    "\n",
    "* Create a summary data frame to hold the results\n",
    "\n",
    "\n",
    "* Optional: give the displayed data cleaner formatting\n",
    "\n",
    "\n",
    "* Display the summary data frame"
   ]
  },
  {
   "cell_type": "code",
   "execution_count": 6,
   "metadata": {},
   "outputs": [
    {
     "data": {
      "text/plain": [
       "count    780.000000\n",
       "mean      22.714103\n",
       "std        6.659444\n",
       "min        7.000000\n",
       "25%       20.000000\n",
       "50%       22.000000\n",
       "75%       25.000000\n",
       "max       45.000000\n",
       "Name: Age, dtype: float64"
      ]
     },
     "execution_count": 6,
     "metadata": {},
     "output_type": "execute_result"
    }
   ],
   "source": [
    "purchaseDf.describe()[\"Age\"]"
   ]
  },
  {
   "cell_type": "markdown",
   "metadata": {},
   "source": [
    "## Age Demographics"
   ]
  },
  {
   "cell_type": "markdown",
   "metadata": {},
   "source": [
    "* Establish bins for ages\n",
    "\n",
    "\n",
    "* Categorize the existing players using the age bins. Hint: use pd.cut()\n",
    "\n",
    "\n",
    "* Calculate the numbers and percentages by age group\n",
    "\n",
    "\n",
    "* Create a summary data frame to hold the results\n",
    "\n",
    "\n",
    "* Optional: round the percentage column to two decimal points\n",
    "\n",
    "\n",
    "* Display Age Demographics Table\n"
   ]
  },
  {
   "cell_type": "code",
   "execution_count": 7,
   "metadata": {},
   "outputs": [
    {
     "name": "stdout",
     "output_type": "stream",
     "text": [
      "                                           Age Count  \\\n",
      "0  Age Group\n",
      "<10       17\n",
      "10-14     22\n",
      "15-19    1...   \n",
      "\n",
      "                               Percentage of Players  \n",
      "0  Age Group\n",
      "<10       2.95%\n",
      "10-14     3.82%\n",
      "15-1...  \n"
     ]
    }
   ],
   "source": [
    "bins = [0, 9, 14, 19, 24, 29, 34, 39, 100]\n",
    "group_age = [\"<10\", \"10-14\", \"15-19\", \"20-24\", \"25-30\", \"30-34\", \"35-40\", \"40+\"]\n",
    "ageDf = purchaseDf\n",
    "\n",
    "ageDf[\"Age Group\"] = pd.cut(ageDf[\"Age\"], bins, labels = group_age)\n",
    "ageDf.unstack\n",
    "ageDf = ageDf.drop_duplicates(\"SN\", keep = \"first\") \n",
    "ageDf = ageDf.groupby(\"Age Group\")\n",
    "\n",
    "#ageCount = (ageDf[\"Age Group\"].value_counts())\n",
    "ageCount = ageDf[\"SN\"].count()\n",
    "\n",
    "agePct = ( ageCount / playerCount) \n",
    "agePct = agePct.map(\"{:,.2%}\".format)\n",
    "summary = pd.DataFrame({\"Age Count\": [ageCount],\n",
    "                        \"Percentage of Players\": [agePct]})\n",
    "\n",
    "print(summary)\n",
    "summary.to_csv('ages.txt', index=False, sep=' ', header=None)\n"
   ]
  },
  {
   "cell_type": "markdown",
   "metadata": {},
   "source": [
    "## Purchasing Analysis (Age)"
   ]
  },
  {
   "cell_type": "code",
   "execution_count": 11,
   "metadata": {},
   "outputs": [
    {
     "name": "stdout",
     "output_type": "stream",
     "text": [
      "                                      Purchase Count  \\\n",
      "0  Age Group\n",
      "<10       23\n",
      "10-14     28\n",
      "15-19    1...   \n",
      "\n",
      "                              Average Purchase Price  \\\n",
      "0  Age Group\n",
      "<10      $3.35\n",
      "10-14    $2.96\n",
      "15-19 ...   \n",
      "\n",
      "                                Total Purchase Value  \\\n",
      "0  Age Group\n",
      "<10        $77.13\n",
      "10-14      $82.78\n",
      "...   \n",
      "\n",
      "                       Avg Total Purchase Per Person  \n",
      "0  Age Group\n",
      "<10      $4.54\n",
      "10-14    $3.76\n",
      "15-19 ...  \n"
     ]
    }
   ],
   "source": [
    "\n",
    "age_avg_purchase = purchaseDf.groupby(\"Age Group\")[\"Price\"].mean().map(\"${:.2f}\".format)\n",
    "age_count_purchase = purchaseDf.groupby(\"Age Group\")[\"Price\"].count()\n",
    "age_ttl_purchase = purchaseDf.groupby(\"Age Group\")[\"Price\"].sum().map(\"${:.2f}\".format) \n",
    "age_avg_person_purchase = (purchaseDf.groupby(\"Age Group\")[\"Price\"].sum() / ageCount).map(\"${:.2f}\".format)  \n",
    "age_avg_person_purchase\n",
    "age_purchase_summary = pd.DataFrame({\"Purchase Count\": [age_count_purchase],\n",
    "                                    \"Average Purchase Price\":[age_avg_purchase],\n",
    "                                    \"Total Purchase Value\": [age_ttl_purchase],\n",
    "                                    \"Avg Total Purchase Per Person\": [age_avg_person_purchase]})\n",
    "print(age_purchase_summary)\n",
    "age_purchase_summary.to_csv('age_purchase.txt', index=False, sep=' ', header=None)\n"
   ]
  },
  {
   "cell_type": "markdown",
   "metadata": {},
   "source": [
    "* Bin the purchase_data data frame by age\n",
    "\n",
    "\n",
    "* Run basic calculations to obtain purchase count, avg. purchase price, avg. purchase total per person etc. in the table below\n",
    "\n",
    "\n",
    "* Create a summary data frame to hold the results\n",
    "\n",
    "\n",
    "* Optional: give the displayed data cleaner formatting\n",
    "\n",
    "\n",
    "* Display the summary data frame"
   ]
  },
  {
   "cell_type": "code",
   "execution_count": null,
   "metadata": {},
   "outputs": [],
   "source": []
  },
  {
   "cell_type": "markdown",
   "metadata": {},
   "source": [
    "## Top Spenders"
   ]
  },
  {
   "cell_type": "markdown",
   "metadata": {},
   "source": [
    "* Run basic calculations to obtain the results in the table below\n",
    "\n",
    "\n",
    "* Create a summary data frame to hold the results\n",
    "\n",
    "\n",
    "* Sort the total purchase value column in descending order\n",
    "\n",
    "\n",
    "* Optional: give the displayed data cleaner formatting\n",
    "\n",
    "\n",
    "* Display a preview of the summary data frame\n",
    "\n"
   ]
  },
  {
   "cell_type": "code",
   "execution_count": null,
   "metadata": {},
   "outputs": [],
   "source": []
  },
  {
   "cell_type": "markdown",
   "metadata": {},
   "source": [
    "## Most Popular Items"
   ]
  },
  {
   "cell_type": "markdown",
   "metadata": {},
   "source": [
    "* Retrieve the Item ID, Item Name, and Item Price columns\n",
    "\n",
    "\n",
    "* Group by Item ID and Item Name. Perform calculations to obtain purchase count, item price, and total purchase value\n",
    "\n",
    "\n",
    "* Create a summary data frame to hold the results\n",
    "\n",
    "\n",
    "* Sort the purchase count column in descending order\n",
    "\n",
    "\n",
    "* Optional: give the displayed data cleaner formatting\n",
    "\n",
    "\n",
    "* Display a preview of the summary data frame\n",
    "\n"
   ]
  },
  {
   "cell_type": "code",
   "execution_count": null,
   "metadata": {},
   "outputs": [],
   "source": []
  },
  {
   "cell_type": "markdown",
   "metadata": {},
   "source": [
    "## Most Profitable Items"
   ]
  },
  {
   "cell_type": "markdown",
   "metadata": {},
   "source": [
    "* Sort the above table by total purchase value in descending order\n",
    "\n",
    "\n",
    "* Optional: give the displayed data cleaner formatting\n",
    "\n",
    "\n",
    "* Display a preview of the data frame\n",
    "\n"
   ]
  },
  {
   "cell_type": "code",
   "execution_count": null,
   "metadata": {
    "scrolled": true
   },
   "outputs": [],
   "source": []
  }
 ],
 "metadata": {
  "anaconda-cloud": {},
  "kernel_info": {
   "name": "python3"
  },
  "kernelspec": {
   "display_name": "Python 3",
   "language": "python",
   "name": "python3"
  },
  "language_info": {
   "codemirror_mode": {
    "name": "ipython",
    "version": 3
   },
   "file_extension": ".py",
   "mimetype": "text/x-python",
   "name": "python",
   "nbconvert_exporter": "python",
   "pygments_lexer": "ipython3",
   "version": "3.6.5"
  },
  "nteract": {
   "version": "0.2.0"
  }
 },
 "nbformat": 4,
 "nbformat_minor": 2
}
