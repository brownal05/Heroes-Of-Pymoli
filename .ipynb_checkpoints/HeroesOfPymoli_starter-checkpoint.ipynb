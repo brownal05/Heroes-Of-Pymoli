{
 "cells": [
  {
   "cell_type": "markdown",
   "metadata": {},
   "source": [
    "### Heroes Of Pymoli Data Analysis\n",
    "* Of the 1163 active players, the vast majority are male (84%). There also exists, a smaller, but notable proportion of female players (14%).\n",
    "\n",
    "* Our peak age demographic falls between 20-24 (44.8%) with secondary groups falling between 15-19 (18.60%) and 25-29 (13.4%).  \n",
    "-----"
   ]
  },
  {
   "cell_type": "markdown",
   "metadata": {},
   "source": [
    "### Note\n",
    "* Instructions have been included for each segment. You do not have to follow them exactly, but they are included to help you think through the steps."
   ]
  },
  {
   "cell_type": "code",
   "execution_count": 1,
   "metadata": {},
   "outputs": [],
   "source": [
    "# Dependencies and Setup\n",
    "import pandas as pd\n",
    "import numpy as np\n",
    "\n",
    "# File to Load (Remember to Change These)\n",
    "purchaseFile = \"Resources/purchase_data.csv\"\n",
    "\n",
    "# Read Purchasing File and store into Pandas data frame\n",
    "purchaseData = pd.read_csv(purchaseFile)"
   ]
  },
  {
   "cell_type": "markdown",
   "metadata": {},
   "source": [
    "## Player Count"
   ]
  },
  {
   "cell_type": "markdown",
   "metadata": {},
   "source": [
    "* Display the total number of players\n"
   ]
  },
  {
   "cell_type": "code",
   "execution_count": 2,
   "metadata": {},
   "outputs": [
    {
     "name": "stdout",
     "output_type": "stream",
     "text": [
      "Index(['Purchase ID', 'SN', 'Age', 'Gender', 'Item ID', 'Item Name', 'Price'], dtype='object')\n"
     ]
    }
   ],
   "source": [
    "print(purchaseData.columns)\n",
    "\n",
    "\n"
   ]
  },
  {
   "cell_type": "markdown",
   "metadata": {},
   "source": [
    "## Purchasing Analysis (Total)"
   ]
  },
  {
   "cell_type": "markdown",
   "metadata": {},
   "source": [
    "* Run basic calculations to obtain number of unique items, average price, etc.\n",
    "\n",
    "\n",
    "* Create a summary data frame to hold the results\n",
    "\n",
    "\n",
    "* Optional: give the displayed data cleaner formatting\n",
    "\n",
    "\n",
    "* Display the summary data frame\n"
   ]
  },
  {
   "cell_type": "code",
   "execution_count": 3,
   "metadata": {
    "scrolled": true
   },
   "outputs": [
    {
     "name": "stdout",
     "output_type": "stream",
     "text": [
      "                            0\n",
      "Total Players             576\n",
      "Unique Items              183\n",
      "Avg Purchase Price      $3.05\n",
      "Number of Purchases       780\n",
      "Total Revenue        $2379.77\n"
     ]
    }
   ],
   "source": [
    "purchaseDf= pd.DataFrame(purchaseData)\n",
    "numPurchases = purchaseDf.groupby(\"Purchase ID\")\n",
    "purchaseCount = len(numPurchases)\n",
    "uniqueItems = purchaseDf.groupby(\"Item ID\")\n",
    "uniqueCount = len(uniqueItems[\"Item ID\"])\n",
    "uniquePlayer = purchaseDf.groupby(\"SN\")\n",
    "playerCount = len(uniquePlayer[\"SN\"])\n",
    "avgPrice = purchaseDf[\"Price\"].mean()\n",
    "#purchaseSummary['Unique ID'] = purchaseDf[\"Item ID\"].value_counts()\n",
    "revenue = purchaseDf.groupby(\"Item ID\")[\"Price\"].sum().sum()\n",
    "\n",
    "purchaseSummary = pd.DataFrame({\"Total Players\": [playerCount],\n",
    "                                \"Unique Items\" : [uniqueCount],\n",
    "                               \"Avg Purchase Price\" : [avgPrice],\n",
    "                               \"Number of Purchases\" : [purchaseCount],\n",
    "                               \"Total Revenue\" : [revenue]})\n",
    "purchaseSummary[\"Avg Purchase Price\"] = purchaseSummary[\"Avg Purchase Price\"].map(\"${:.2f}\".format)\n",
    "purchaseSummary[\"Total Revenue\"] = purchaseSummary[\"Total Revenue\"].map(\"${:.2f}\".format)\n",
    "\n",
    "print(purchaseSummary.T)                           \n",
    "\n",
    "\n",
    "\n"
   ]
  },
  {
   "cell_type": "code",
   "execution_count": null,
   "metadata": {},
   "outputs": [],
   "source": []
  },
  {
   "cell_type": "code",
   "execution_count": 4,
   "metadata": {},
   "outputs": [
    {
     "name": "stdout",
     "output_type": "stream",
     "text": [
      "                               0\n",
      "Men                   484.000000\n",
      "Men Pct of Players      0.840278\n",
      "Women of Players       81.000000\n",
      "Women Pct of Players    0.140625\n",
      "Others                 11.000000\n",
      "Other Pct of Players    0.019097\n"
     ]
    }
   ],
   "source": [
    "genderDf = purchaseDf.drop_duplicates(\"SN\", keep = \"first\") \n",
    "genderCount = genderDf[\"Gender\"].count()\n",
    "gendersGroup = genderDf.groupby(\"Gender\")\n",
    "male = gendersGroup[\"SN\"].count()[\"Male\"]\n",
    "female = gendersGroup[\"SN\"].count()[\"Female\"]\n",
    "\n",
    "others = gendersGroup[\"SN\"].count()[\"Other / Non-Disclosed\"]\n",
    "\n",
    "malepct = male / playerCount\n",
    "femalepct = female / playerCount\n",
    "otherspct = others / playerCount\n",
    "\n",
    "GenderSummary = pd.DataFrame({\"Men\": [male],\n",
    "                             \"Men Pct of Players\":[malepct],\n",
    "                             \"Women of Players\": [female],\n",
    "                              \"Women Pct of Players\": [femalepct],\n",
    "                             \"Others\": [others],\n",
    "                              \"Other Pct of Players\": [otherspct]})\n",
    "print(GenderSummary.T)\n"
   ]
  },
  {
   "cell_type": "markdown",
   "metadata": {},
   "source": [
    "## Gender Demographics"
   ]
  },
  {
   "cell_type": "markdown",
   "metadata": {},
   "source": [
    "* Percentage and Count of Male Players\n",
    "\n",
    "\n",
    "* Percentage and Count of Female Players\n",
    "\n",
    "\n",
    "* Percentage and Count of Other / Non-Disclosed\n",
    "\n",
    "\n"
   ]
  },
  {
   "cell_type": "code",
   "execution_count": 5,
   "metadata": {},
   "outputs": [
    {
     "name": "stdout",
     "output_type": "stream",
     "text": [
      "   Gender  Purchase Count  Average Purchase Price Total Purchase Value  \\\n",
      "0    Male             652                3.017853             $1967.64   \n",
      "1  Female             113                3.203009              $361.94   \n",
      "2  Others              15                3.346000               $50.19   \n",
      "\n",
      "  Avg Total Purchase Per Peson  \n",
      "0                        $4.07  \n",
      "1                        $4.47  \n",
      "2                        $4.56  \n"
     ]
    }
   ],
   "source": [
    "genders = purchaseDf.groupby([\"Gender\", \"Purchase ID\"])\n",
    "\n",
    "malePurchaseCount = len(genders[\"Purchase ID\"].count()[\"Male\"])\n",
    "femalePurchseCount = len(genders[\"Purchase ID\"].count()[\"Female\"])\n",
    "othersPurchaseCount = len(genders[\"SN\"].count()[\"Other / Non-Disclosed\"])\n",
    "maleAvgPurchase = purchaseDf.groupby(\"Gender\")[\"Price\"].mean()[\"Male\"].mean()\n",
    "femaleAvgPurchase = purchaseDf.groupby(\"Gender\")[\"Price\"].mean()[\"Female\"].mean()\n",
    "otherAvgPurchase = purchaseDf.groupby(\"Gender\")[\"Price\"].mean()[\"Other / Non-Disclosed\"].mean()\n",
    "maleTtlPurchase = purchaseDf.groupby(\"Gender\")[\"Price\"].sum()[\"Male\"].sum()\n",
    "femaleTtlPurchase = purchaseDf.groupby(\"Gender\")[\"Price\"].sum()[\"Female\"].sum()\n",
    "otherTtlPurchase = purchaseDf.groupby(\"Gender\")[\"Price\"].sum()[\"Other / Non-Disclosed\"].sum()\n",
    "maleAvgTtlPurchase = purchaseDf.groupby(\"Gender\")[\"Price\"].sum()[\"Male\"].sum() / male\n",
    "femaleAvgTtlPurchase = purchaseDf.groupby(\"Gender\")[\"Price\"].sum()[\"Female\"].sum() / female\n",
    "otherAvgTtlPurchase = purchaseDf.groupby(\"Gender\")[\"Price\"].sum()[\"Other / Non-Disclosed\"].sum() / others\n",
    "GenderPurchaseSummary = pd.DataFrame({\"Gender\": [\"Male\", \"Female\", \"Others\"],\n",
    "                                     \"Purchase Count\": [malePurchaseCount, femalePurchseCount, othersPurchaseCount],\n",
    "                                     \"Average Purchase Price\": [maleAvgPurchase, femaleAvgPurchase, otherAvgPurchase],\n",
    "                                     \"Total Purchase Value\": [maleTtlPurchase, femaleTtlPurchase, otherTtlPurchase ],\n",
    "                                     \"Avg Total Purchase Per Peson\": [maleAvgTtlPurchase, femaleAvgTtlPurchase, otherAvgTtlPurchase]})\n",
    "GenderPurchaseSummary[\"Total Purchase Value\"] = GenderPurchaseSummary[\"Total Purchase Value\"].map(\"${:.2f}\".format)\n",
    "GenderPurchaseSummary[\"Avg Total Purchase Per Peson\"] = GenderPurchaseSummary[\"Avg Total Purchase Per Peson\"].map(\"${:.2f}\".format)\n",
    "\n",
    "\n",
    "print(GenderPurchaseSummary)\n"
   ]
  },
  {
   "cell_type": "markdown",
   "metadata": {},
   "source": [
    "\n",
    "## Purchasing Analysis (Gender)"
   ]
  },
  {
   "cell_type": "markdown",
   "metadata": {},
   "source": [
    "* Run basic calculations to obtain purchase count, avg. purchase price, avg. purchase total per person etc. by gender\n",
    "\n",
    "\n",
    "\n",
    "\n",
    "* Create a summary data frame to hold the results\n",
    "\n",
    "\n",
    "* Optional: give the displayed data cleaner formatting\n",
    "\n",
    "\n",
    "* Display the summary data frame"
   ]
  },
  {
   "cell_type": "code",
   "execution_count": 6,
   "metadata": {},
   "outputs": [
    {
     "data": {
      "text/plain": [
       "count    780.000000\n",
       "mean      22.714103\n",
       "std        6.659444\n",
       "min        7.000000\n",
       "25%       20.000000\n",
       "50%       22.000000\n",
       "75%       25.000000\n",
       "max       45.000000\n",
       "Name: Age, dtype: float64"
      ]
     },
     "execution_count": 6,
     "metadata": {},
     "output_type": "execute_result"
    }
   ],
   "source": [
    "purchaseDf.describe()[\"Age\"]"
   ]
  },
  {
   "cell_type": "markdown",
   "metadata": {},
   "source": [
    "## Age Demographics"
   ]
  },
  {
   "cell_type": "markdown",
   "metadata": {},
   "source": [
    "* Establish bins for ages\n",
    "\n",
    "\n",
    "* Categorize the existing players using the age bins. Hint: use pd.cut()\n",
    "\n",
    "\n",
    "* Calculate the numbers and percentages by age group\n",
    "\n",
    "\n",
    "* Create a summary data frame to hold the results\n",
    "\n",
    "\n",
    "* Optional: round the percentage column to two decimal points\n",
    "\n",
    "\n",
    "* Display Age Demographics Table\n"
   ]
  },
  {
   "cell_type": "code",
   "execution_count": 7,
   "metadata": {},
   "outputs": [
    {
     "name": "stdout",
     "output_type": "stream",
     "text": [
      "                                           Age Count  \\\n",
      "0  Age Group\n",
      "<10       17\n",
      "10-14     22\n",
      "15-19    1...   \n",
      "\n",
      "                               Percentage of Players  \n",
      "0  Age Group\n",
      "<10       2.95%\n",
      "10-14     3.82%\n",
      "15-1...  \n"
     ]
    }
   ],
   "source": [
    "bins = [0, 9, 14, 19, 24, 29, 34, 39, 100]\n",
    "group_age = [\"<10\", \"10-14\", \"15-19\", \"20-24\", \"25-30\", \"30-34\", \"35-40\", \"40+\"]\n",
    "ageDf = purchaseDf\n",
    "\n",
    "ageDf[\"Age Group\"] = pd.cut(ageDf[\"Age\"], bins, labels = group_age)\n",
    "ageDf.unstack\n",
    "ageDf = ageDf.drop_duplicates(\"SN\", keep = \"first\") \n",
    "ageDf = ageDf.groupby(\"Age Group\")\n",
    "\n",
    "#ageCount = (ageDf[\"Age Group\"].value_counts())\n",
    "ageCount = ageDf[\"SN\"].count()\n",
    "\n",
    "agePct = ( ageCount / playerCount) \n",
    "agePct = agePct.map(\"{:,.2%}\".format)\n",
    "summary = pd.DataFrame({\"Age Count\": [ageCount],\n",
    "                        \"Percentage of Players\": [agePct]})\n",
    "\n",
    "print(summary)\n",
    "summary.to_csv('ages.txt', index=False, sep=' ', header=None)\n"
   ]
  },
  {
   "cell_type": "markdown",
   "metadata": {},
   "source": [
    "## Purchasing Analysis (Age)"
   ]
  },
  {
   "cell_type": "code",
   "execution_count": 8,
   "metadata": {},
   "outputs": [
    {
     "name": "stdout",
     "output_type": "stream",
     "text": [
      "                                      Purchase Count  \\\n",
      "0  Age Group\n",
      "<10       23\n",
      "10-14     28\n",
      "15-19    1...   \n",
      "\n",
      "                              Average Purchase Price  \\\n",
      "0  Age Group\n",
      "<10      $3.35\n",
      "10-14    $2.96\n",
      "15-19 ...   \n",
      "\n",
      "                                Total Purchase Value  \\\n",
      "0  Age Group\n",
      "<10        $77.13\n",
      "10-14      $82.78\n",
      "...   \n",
      "\n",
      "                       Avg Total Purchase Per Person  \n",
      "0  Age Group\n",
      "<10      $4.54\n",
      "10-14    $3.76\n",
      "15-19 ...  \n"
     ]
    }
   ],
   "source": [
    "\n",
    "age_avg_purchase = purchaseDf.groupby(\"Age Group\")[\"Price\"].mean().map(\"${:.2f}\".format)\n",
    "age_count_purchase = purchaseDf.groupby(\"Age Group\")[\"Price\"].count()\n",
    "age_ttl_purchase = purchaseDf.groupby(\"Age Group\")[\"Price\"].sum().map(\"${:.2f}\".format) \n",
    "age_avg_person_purchase = (purchaseDf.groupby(\"Age Group\")[\"Price\"].sum() / ageCount).map(\"${:.2f}\".format)  \n",
    "age_avg_person_purchase\n",
    "age_purchase_summary = pd.DataFrame({\"Purchase Count\": [age_count_purchase],\n",
    "                                    \"Average Purchase Price\":[age_avg_purchase],\n",
    "                                    \"Total Purchase Value\": [age_ttl_purchase],\n",
    "                                    \"Avg Total Purchase Per Person\": [age_avg_person_purchase]})\n",
    "print(age_purchase_summary)\n",
    "age_purchase_summary.to_csv('age_purchase.txt', index=False, sep=' ', header=None)\n"
   ]
  },
  {
   "cell_type": "markdown",
   "metadata": {},
   "source": [
    "* Bin the purchase_data data frame by age\n",
    "\n",
    "\n",
    "* Run basic calculations to obtain purchase count, avg. purchase price, avg. purchase total per person etc. in the table below\n",
    "\n",
    "\n",
    "* Create a summary data frame to hold the results\n",
    "\n",
    "\n",
    "* Optional: give the displayed data cleaner formatting\n",
    "\n",
    "\n",
    "* Display the summary data frame"
   ]
  },
  {
   "cell_type": "code",
   "execution_count": 9,
   "metadata": {},
   "outputs": [],
   "source": [
    "purchDf = pd.DataFrame(purchaseData)\n",
    "\n",
    "count_purchase = pd.DataFrame(purchDf.groupby(\"SN\")[\"Price\"].count())\n",
    "sn_avg_purchase =  pd.DataFrame(purchDf.groupby(\"SN\")[\"Price\"].mean()) #.map(\"${:.2f}\".format)\n",
    "sn_ttl_purchase =  pd.DataFrame(purchDf.groupby(\"SN\")[\"Price\"].sum()) #.map(\"${:.2f}\".format))\n",
    "#summary_name = pd.merge(count_purchase, sn_avg_purchase, sn_ttl_purchase)\n",
    "summary_name = pd.merge(sn_ttl_purchase,count_purchase, left_index = True, right_index = True).merge(sn_avg_purchase , left_index=True, right_index=True)\n",
    "summary_name.rename(columns = {'Price_x': 'Total Purchase Value', 'Price_y':'Purchase Count', 'Price':'Average Purchase Price'}, inplace = True)\n",
    "summary_name.sort_values(\"Total Purchase Value\", ascending = False, inplace = True)\n",
    "top_five = summary_name.head()\n",
    "top_five.style.format({'Total Purchase Value': '${:.2f}', 'Average Purchase Price': '${:.2f}'})\n",
    "top_five.to_csv('name_purchase.txt', index=False, sep=' ', header=None)\n",
    "\n"
   ]
  },
  {
   "cell_type": "markdown",
   "metadata": {},
   "source": [
    "## Top Spenders"
   ]
  },
  {
   "cell_type": "markdown",
   "metadata": {},
   "source": [
    "* Run basic calculations to obtain the results in the table below\n",
    "\n",
    "\n",
    "* Create a summary data frame to hold the results\n",
    "\n",
    "\n",
    "* Sort the total purchase value column in descending order\n",
    "\n",
    "\n",
    "* Optional: give the displayed data cleaner formatting\n",
    "\n",
    "\n",
    "* Display a preview of the summary data frame\n",
    "\n"
   ]
  },
  {
   "cell_type": "code",
   "execution_count": 39,
   "metadata": {},
   "outputs": [
    {
     "name": "stderr",
     "output_type": "stream",
     "text": [
      "C:\\Program Files (x86)\\Microsoft Visual Studio\\Shared\\Anaconda3_64\\lib\\site-packages\\ipykernel_launcher.py:3: FutureWarning: 'Item ID' is both an index level and a column label.\n",
      "Defaulting to column, but this will raise an ambiguity error in a future version\n",
      "  This is separate from the ipykernel package so we can avoid doing imports until\n"
     ]
    },
    {
     "data": {
      "text/html": [
       "<div>\n",
       "<style scoped>\n",
       "    .dataframe tbody tr th:only-of-type {\n",
       "        vertical-align: middle;\n",
       "    }\n",
       "\n",
       "    .dataframe tbody tr th {\n",
       "        vertical-align: top;\n",
       "    }\n",
       "\n",
       "    .dataframe thead th {\n",
       "        text-align: right;\n",
       "    }\n",
       "</style>\n",
       "<table border=\"1\" class=\"dataframe\">\n",
       "  <thead>\n",
       "    <tr style=\"text-align: right;\">\n",
       "      <th></th>\n",
       "      <th>Item Name</th>\n",
       "      <th>Purchase Count</th>\n",
       "      <th>Item Price</th>\n",
       "      <th>Total Purchase Value</th>\n",
       "    </tr>\n",
       "    <tr>\n",
       "      <th>Item ID</th>\n",
       "      <th></th>\n",
       "      <th></th>\n",
       "      <th></th>\n",
       "      <th></th>\n",
       "    </tr>\n",
       "  </thead>\n",
       "  <tbody>\n",
       "    <tr>\n",
       "      <th>178</th>\n",
       "      <td>Oathbreaker, Last Hope of the Breaking Storm</td>\n",
       "      <td>12</td>\n",
       "      <td>4.23</td>\n",
       "      <td>50.76</td>\n",
       "    </tr>\n",
       "    <tr>\n",
       "      <th>145</th>\n",
       "      <td>Fiery Glass Crusader</td>\n",
       "      <td>9</td>\n",
       "      <td>4.58</td>\n",
       "      <td>41.22</td>\n",
       "    </tr>\n",
       "    <tr>\n",
       "      <th>108</th>\n",
       "      <td>Extraction, Quickblade Of Trembling Hands</td>\n",
       "      <td>9</td>\n",
       "      <td>3.53</td>\n",
       "      <td>31.77</td>\n",
       "    </tr>\n",
       "    <tr>\n",
       "      <th>82</th>\n",
       "      <td>Nirvana</td>\n",
       "      <td>9</td>\n",
       "      <td>4.90</td>\n",
       "      <td>44.10</td>\n",
       "    </tr>\n",
       "    <tr>\n",
       "      <th>19</th>\n",
       "      <td>Pursuit, Cudgel of Necromancy</td>\n",
       "      <td>8</td>\n",
       "      <td>1.02</td>\n",
       "      <td>8.16</td>\n",
       "    </tr>\n",
       "  </tbody>\n",
       "</table>\n",
       "</div>"
      ],
      "text/plain": [
       "                                            Item Name  Purchase Count  \\\n",
       "Item ID                                                                 \n",
       "178      Oathbreaker, Last Hope of the Breaking Storm              12   \n",
       "145                              Fiery Glass Crusader               9   \n",
       "108         Extraction, Quickblade Of Trembling Hands               9   \n",
       "82                                            Nirvana               9   \n",
       "19                      Pursuit, Cudgel of Necromancy               8   \n",
       "\n",
       "         Item Price  Total Purchase Value  \n",
       "Item ID                                    \n",
       "178            4.23                 50.76  \n",
       "145            4.58                 41.22  \n",
       "108            3.53                 31.77  \n",
       "82             4.90                 44.10  \n",
       "19             1.02                  8.16  "
      ]
     },
     "execution_count": 39,
     "metadata": {},
     "output_type": "execute_result"
    }
   ],
   "source": [
    "purchDf = pd.DataFrame(purchaseData)\n",
    "item_count = pd.DataFrame(purchDf.groupby(\"Item ID\")[\"Item ID\"].count())\n",
    "item_count.sort_values(\"Item ID\", ascending=False, inplace=True)\n",
    "items = pd.DataFrame(purchDf.groupby(\"Item ID\")[\"Price\"].sum())\n",
    "top_five_items = pd.merge(item_count, items, left_index= True, right_index = True)\n",
    "item_duplicates = purchDf.drop_duplicates(['Item ID'], keep = 'last')\n",
    "top_five_id = pd.merge(top_five_items, item_duplicates, left_index = True, right_on = 'Item ID')\n",
    "top_five_id = top_five_id[[\"Item ID\", \"Item Name\", \"Item ID_x\", \"Price_y\", \"Price_x\"]]\n",
    "top_five_id.set_index(['Item ID'], inplace=True)\n",
    "top_five_id =top_five_id.rename(columns = {\"Item ID_x\": \"Purchase Count\", \"Price_y\": \"Item Price\", \"Price_x\": \"Total Purchase Value\"})\n",
    "top_five_id = top_five_id.head()\n",
    "top_five_id.to_csv('item_purchase.txt', index=False, sep=' ', header=None)\n",
    "top_five_id"
   ]
  },
  {
   "cell_type": "markdown",
   "metadata": {},
   "source": [
    "## Most Popular Items"
   ]
  },
  {
   "cell_type": "markdown",
   "metadata": {},
   "source": [
    "* Retrieve the Item ID, Item Name, and Item Price columns\n",
    "\n",
    "\n",
    "* Group by Item ID and Item Name. Perform calculations to obtain purchase count, item price, and total purchase value\n",
    "\n",
    "\n",
    "* Create a summary data frame to hold the results\n",
    "\n",
    "\n",
    "* Sort the purchase count column in descending order\n",
    "\n",
    "\n",
    "* Optional: give the displayed data cleaner formatting\n",
    "\n",
    "\n",
    "* Display a preview of the summary data frame\n",
    "\n"
   ]
  },
  {
   "cell_type": "code",
   "execution_count": 47,
   "metadata": {},
   "outputs": [
    {
     "data": {
      "text/html": [
       "<div>\n",
       "<style scoped>\n",
       "    .dataframe tbody tr th:only-of-type {\n",
       "        vertical-align: middle;\n",
       "    }\n",
       "\n",
       "    .dataframe tbody tr th {\n",
       "        vertical-align: top;\n",
       "    }\n",
       "\n",
       "    .dataframe thead th {\n",
       "        text-align: right;\n",
       "    }\n",
       "</style>\n",
       "<table border=\"1\" class=\"dataframe\">\n",
       "  <thead>\n",
       "    <tr style=\"text-align: right;\">\n",
       "      <th></th>\n",
       "      <th>Item Name</th>\n",
       "      <th>Item Price</th>\n",
       "      <th>Total Purchase Value</th>\n",
       "    </tr>\n",
       "    <tr>\n",
       "      <th>Item ID</th>\n",
       "      <th></th>\n",
       "      <th></th>\n",
       "      <th></th>\n",
       "    </tr>\n",
       "  </thead>\n",
       "  <tbody>\n",
       "    <tr>\n",
       "      <th>178</th>\n",
       "      <td>Oathbreaker, Last Hope of the Breaking Storm</td>\n",
       "      <td>4.23</td>\n",
       "      <td>50.76</td>\n",
       "    </tr>\n",
       "    <tr>\n",
       "      <th>82</th>\n",
       "      <td>Nirvana</td>\n",
       "      <td>4.90</td>\n",
       "      <td>44.10</td>\n",
       "    </tr>\n",
       "    <tr>\n",
       "      <th>145</th>\n",
       "      <td>Fiery Glass Crusader</td>\n",
       "      <td>4.58</td>\n",
       "      <td>41.22</td>\n",
       "    </tr>\n",
       "    <tr>\n",
       "      <th>92</th>\n",
       "      <td>Final Critic</td>\n",
       "      <td>4.88</td>\n",
       "      <td>39.04</td>\n",
       "    </tr>\n",
       "    <tr>\n",
       "      <th>103</th>\n",
       "      <td>Singed Scalpel</td>\n",
       "      <td>4.35</td>\n",
       "      <td>34.80</td>\n",
       "    </tr>\n",
       "  </tbody>\n",
       "</table>\n",
       "</div>"
      ],
      "text/plain": [
       "                                            Item Name  Item Price  \\\n",
       "Item ID                                                             \n",
       "178      Oathbreaker, Last Hope of the Breaking Storm        4.23   \n",
       "82                                            Nirvana        4.90   \n",
       "145                              Fiery Glass Crusader        4.58   \n",
       "92                                       Final Critic        4.88   \n",
       "103                                    Singed Scalpel        4.35   \n",
       "\n",
       "         Total Purchase Value  \n",
       "Item ID                        \n",
       "178                     50.76  \n",
       "82                      44.10  \n",
       "145                     41.22  \n",
       "92                      39.04  \n",
       "103                     34.80  "
      ]
     },
     "execution_count": 47,
     "metadata": {},
     "output_type": "execute_result"
    }
   ],
   "source": [
    "profDf = pd.DataFrame(purchaseData)\n",
    "\n",
    "profit = pd.DataFrame(profDf.groupby(\"Item ID\")[\"Price\"].sum())\n",
    "profit.sort_values(\"Price\", ascending = False, inplace=True)\n",
    "profit_count = pd.DataFrame(profDf.groupby(\"Item ID\")[\"Item ID\"].count())\n",
    "top_five_profit = pd.merge(profit, profit_count, left_index = True, right_index = True) #where the heck did the Item Count go?\n",
    "top_five_profit = pd.merge(profit, item_duplicates, left_index = True, right_on = \"Item ID\")\n",
    "top_five_profit = top_five_profit[[\"Item ID\", \"Item Name\", 'Price_y','Price_x']]\n",
    "top_five_profit.set_index([\"Item ID\"], inplace = True)\n",
    "top_five_profit = top_five_profit.rename(columns = {\"Price_y\": \"Item Price\", \"Price_x\" : \"Total Purchase Value\"})\n",
    "top_five_profit= top_five_profit.head()\n",
    "top_five_profit "
   ]
  },
  {
   "cell_type": "markdown",
   "metadata": {},
   "source": [
    "## Most Profitable Items"
   ]
  },
  {
   "cell_type": "markdown",
   "metadata": {},
   "source": [
    "* Sort the above table by total purchase value in descending order\n",
    "\n",
    "\n",
    "* Optional: give the displayed data cleaner formatting\n",
    "\n",
    "\n",
    "* Display a preview of the data frame\n",
    "\n"
   ]
  },
  {
   "cell_type": "code",
   "execution_count": null,
   "metadata": {
    "scrolled": true
   },
   "outputs": [],
   "source": []
  }
 ],
 "metadata": {
  "anaconda-cloud": {},
  "kernel_info": {
   "name": "python3"
  },
  "kernelspec": {
   "display_name": "Python 3",
   "language": "python",
   "name": "python3"
  },
  "language_info": {
   "codemirror_mode": {
    "name": "ipython",
    "version": 3
   },
   "file_extension": ".py",
   "mimetype": "text/x-python",
   "name": "python",
   "nbconvert_exporter": "python",
   "pygments_lexer": "ipython3",
   "version": "3.6.5"
  },
  "nteract": {
   "version": "0.2.0"
  }
 },
 "nbformat": 4,
 "nbformat_minor": 2
}
